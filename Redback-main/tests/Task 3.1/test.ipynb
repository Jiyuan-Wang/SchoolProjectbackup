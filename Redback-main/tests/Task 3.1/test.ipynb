{
 "cells": [
  {
   "cell_type": "code",
   "execution_count": 1,
   "id": "d2c3d9bf",
   "metadata": {},
   "outputs": [
    {
     "name": "stdout",
     "output_type": "stream",
     "text": [
      " * Serving Flask app '__main__'\n",
      " * Debug mode: off\n"
     ]
    },
    {
     "name": "stderr",
     "output_type": "stream",
     "text": [
      "WARNING: This is a development server. Do not use it in a production deployment. Use a production WSGI server instead.\n",
      " * Running on all addresses (0.0.0.0)\n",
      " * Running on http://127.0.0.1:5000\n",
      " * Running on http://10.0.0.60:5000\n",
      "Press CTRL+C to quit\n"
     ]
    },
    {
     "name": "stdout",
     "output_type": "stream",
     "text": [
      "start...\n",
      "pbsp_tailor.pdf\n"
     ]
    },
    {
     "name": "stderr",
     "output_type": "stream",
     "text": [
      "127.0.0.1 - - [20/Oct/2022 18:47:15] \"POST /PDF HTTP/1.1\" 200 -\n"
     ]
    },
    {
     "name": "stdout",
     "output_type": "stream",
     "text": [
      "end...\n"
     ]
    }
   ],
   "source": [
    "import pymysql\n",
    "import DataExtraction_ as DE\n",
    "import DataSaving as ds\n",
    "from flask import Flask, request\n",
    "app = Flask(__name__)\n",
    "@app.route('/PDF', methods = ['POST'])\n",
    "\n",
    "def get_PDF():\n",
    "    file = request.files.get('PDF')\n",
    "    print(\"start...\")\n",
    "    print(file.filename)\n",
    "    file.save('PBSP.pdf')\n",
    "    path = \"PBSP.pdf\"\n",
    "    extracted_data = DE.PBSPextract(path)\n",
    "    ds.SavingData(extracted_data)\n",
    "    print(\"end...\")\n",
    "    return \"Success\"\n",
    "\n",
    "if __name__ == '__main__':\n",
    "    app.run(host = '0.0.0.0', port = 5000)"
   ]
  },
  {
   "cell_type": "code",
   "execution_count": 3,
   "id": "8dede0da",
   "metadata": {},
   "outputs": [],
   "source": [
    "import DB_API as da\n",
    "import codecs\n",
    "\n",
    "# Extract data of the page1 of the PBSP with id = 1\n",
    "d = da.getPage1(1)\n",
    "s = str(d)\n",
    "f = codecs.open('page1.txt','w', 'utf-8')\n",
    "f.writelines(s)\n",
    "f.close()\n",
    "\n",
    "# Extract data of the page2 of the PBSP with id = 1\n",
    "d = da.getPage2(1)\n",
    "s = str(d)\n",
    "f = codecs.open('page2.txt','w', 'utf-8')\n",
    "f.writelines(s)\n",
    "f.close()\n",
    "\n",
    "# Extract data of the page3 of the PBSP with id = 1\n",
    "d = da.getPage3(1)\n",
    "s = str(d)\n",
    "f = codecs.open('page3.txt','w', 'utf-8')\n",
    "f.writelines(s)\n",
    "f.close()\n",
    "\n",
    "# Extract data of the page4 of the PBSP with id = 1\n",
    "d = da.getPage4(1)\n",
    "s = str(d)\n",
    "f = codecs.open('page4.txt','w', 'utf-8')\n",
    "f.writelines(s)\n",
    "f.close()\n",
    "\n",
    "# Extract data of the page5 of the PBSP with id = 1\n",
    "d = da.getPage5(1)\n",
    "s = str(d)\n",
    "f = codecs.open('page5.txt','w', 'utf-8')\n",
    "f.writelines(s)\n",
    "f.close()\n",
    "\n",
    "# Extract data of the page6 of the PBSP with id = 1\n",
    "d = da.getPage6(1)\n",
    "s = str(d)\n",
    "f = codecs.open('page6.txt','w', 'utf-8')\n",
    "f.writelines(s)\n",
    "f.close()"
   ]
  },
  {
   "cell_type": "code",
   "execution_count": null,
   "id": "c1b7a322",
   "metadata": {},
   "outputs": [],
   "source": []
  }
 ],
 "metadata": {
  "kernelspec": {
   "display_name": "Python 3 (ipykernel)",
   "language": "python",
   "name": "python3"
  },
  "language_info": {
   "codemirror_mode": {
    "name": "ipython",
    "version": 3
   },
   "file_extension": ".py",
   "mimetype": "text/x-python",
   "name": "python",
   "nbconvert_exporter": "python",
   "pygments_lexer": "ipython3",
   "version": "3.10.6"
  }
 },
 "nbformat": 4,
 "nbformat_minor": 5
}
